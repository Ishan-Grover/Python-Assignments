{
  "nbformat": 4,
  "nbformat_minor": 0,
  "metadata": {
    "colab": {
      "provenance": [],
      "authorship_tag": "ABX9TyOi0N2Ri02pCL4XiH2kEgJS",
      "include_colab_link": true
    },
    "kernelspec": {
      "name": "python3",
      "display_name": "Python 3"
    },
    "language_info": {
      "name": "python"
    }
  },
  "cells": [
    {
      "cell_type": "markdown",
      "metadata": {
        "id": "view-in-github",
        "colab_type": "text"
      },
      "source": [
        "<a href=\"https://colab.research.google.com/github/Ishan-Grover/Python-Assignments/blob/main/Untitled2.ipynb\" target=\"_parent\"><img src=\"https://colab.research.google.com/assets/colab-badge.svg\" alt=\"Open In Colab\"/></a>"
      ]
    },
    {
      "cell_type": "markdown",
      "source": [
        "**Python Assignment**"
      ],
      "metadata": {
        "id": "v08nO5AxcJqV"
      }
    },
    {
      "cell_type": "markdown",
      "source": [
        "Q1. L is a list defined as L=[11,12,13,14]."
      ],
      "metadata": {
        "id": "BK_dUVftcOx3"
      }
    },
    {
      "cell_type": "code",
      "execution_count": null,
      "metadata": {
        "colab": {
          "base_uri": "https://localhost:8080/"
        },
        "id": "7vgOrl1Wb607",
        "outputId": "f28555b0-600c-46c0-a9eb-3ebfb695ee8d"
      },
      "outputs": [
        {
          "output_type": "stream",
          "name": "stdout",
          "text": [
            "Original List=  [11, 12, 13, 14]\n",
            "(i).WAP to add 50 and 60 to L.\n",
            "[11, 12, 13, 14, 50, 60]\n",
            "(ii).WAP to remove 11 and 13 from L.\n",
            "[12, 14, 50, 60]\n",
            "(iii).WAP to sort L in ascending order.\n",
            "[12, 14, 50, 60]\n",
            "(iv).WAP to sort L in descending order.\n",
            "[60, 50, 14, 12]\n",
            "(v).WAP to search for 13 in L.\n",
            "13 in list: False\n",
            "(vi).WAP to count the number of elements present in L.\n",
            "4\n",
            "(vii).WAP to sum all the elements in L.\n",
            "136\n",
            "(viii).WAP to sum all ODD numbers in L.\n",
            "0\n",
            "(ix).WAP to sum all EVEN numbers in L.\n",
            "136\n",
            "(xi).WAP to clear all the elements in L.\n",
            "[]\n",
            "(Xii).WAP to delete L.\n"
          ]
        }
      ],
      "source": [
        "L=[11,12,13,14]#Original List\n",
        "print(\"Original List= \",L)\n",
        "L.append(50)#Adding 50\n",
        "L.append(60)#Adding 60\n",
        "print(\"(i).WAP to add 50 and 60 to L.\")\n",
        "print(L)#(i).WAP to add 50 and 60 to L.\n",
        "del L[0]#Removing 11\n",
        "del L[1]#Removing 13\n",
        "print(\"(ii).WAP to remove 11 and 13 from L.\")\n",
        "print(L)#(ii).WAP to remove 11 and 13 from L.\n",
        "print(\"(iii).WAP to sort L in ascending order.\")\n",
        "L.sort()#(iii).WAP to sort L in ascending order.\n",
        "print(L)\n",
        "print(\"(iv).WAP to sort L in descending order.\")\n",
        "L.sort(reverse=True)\n",
        "print(L)#(iv).WAP to sort L in descending order.\n",
        "print(\"(v).WAP to search for 13 in L.\")\n",
        "print(\"13 in list:\",13 in L)#(v).WAP to search for 13 in L.\n",
        "print(\"(vi).WAP to count the number of elements present in L.\")\n",
        "print(len(L))#(vi).WAP to count the number of elements present in L.\n",
        "print(\"(vii).WAP to sum all the elements in L.\")\n",
        "print(sum(L))\n",
        "print(\"(viii).WAP to sum all ODD numbers in L.\")\n",
        "s=0\n",
        "for i in L:\n",
        "    if(i%2!=0):\n",
        "        s=s+i\n",
        "print(s)\n",
        "print(\"(ix).WAP to sum all EVEN numbers in L.\")\n",
        "f=0\n",
        "for j in L:\n",
        "  if(j%2==0):\n",
        "    f=f+j\n",
        "print(f)\n",
        "print(\"(xi).WAP to clear all the elements in L.\")\n",
        "L.clear()#(xi).WAP to clear all the elements in L.\n",
        "print(L)\n",
        "print(\"(Xii).WAP to delete L.\")\n",
        "del L#(Xii).WAP to delete L.\n"
      ]
    },
    {
      "cell_type": "markdown",
      "source": [
        "Q2. D is a dictionary defined as D={1:5.6,2:7.8,3:6.6,4:8.7,5:7.7}"
      ],
      "metadata": {
        "id": "H3pJPOoPc1gU"
      }
    },
    {
      "cell_type": "code",
      "source": [
        "D={1:5.6,2:7.8,3:6.6,4:8.7,5:7.7}\n",
        "print(\"Dictionary D=\",D)\n",
        "print(\"(i).WAP to add new entry in D;key=8 and value is 8,8\")\n",
        "D[8]=8.8\n",
        "print(D)\n",
        "print(\"(ii).WAP to remove key=2.\")\n",
        "del D[2]\n",
        "print(D)\n",
        "print(\"(iii).WAP to check whether 6Key is present in D.\")\n",
        "print(\"6 key is present in D:\", 6 in D)\n",
        "print(\"(iv).WAP to count the number of elements present in D.\")\n",
        "print(len(D))\n",
        "print(\"(v).WAP to add all the values present in D.\")\n",
        "print(sum(D))\n",
        "print(\"(vi).WAP to update the value of 3 to 7.1.\")\n",
        "D[3]=7.1\n",
        "print(D)\n",
        "print(\"(vii).WAP to clear the dictionary.\")\n",
        "D.clear()\n",
        "print(D)"
      ],
      "metadata": {
        "colab": {
          "base_uri": "https://localhost:8080/"
        },
        "id": "P9J5ocIodGOJ",
        "outputId": "eb9a3dcc-50a2-4b33-ec85-2b6277638be5"
      },
      "execution_count": null,
      "outputs": [
        {
          "output_type": "stream",
          "name": "stdout",
          "text": [
            "Dictionary D= {1: 5.6, 2: 7.8, 3: 6.6, 4: 8.7, 5: 7.7}\n",
            "(i).WAP to add new entry in D;key=8 and value is 8,8\n",
            "{1: 5.6, 2: 7.8, 3: 6.6, 4: 8.7, 5: 7.7, 8: 8.8}\n",
            "(ii).WAP to remove key=2.\n",
            "{1: 5.6, 3: 6.6, 4: 8.7, 5: 7.7, 8: 8.8}\n",
            "(iii).WAP to check whether 6Key is present in D.\n",
            "6 key is present in D: False\n",
            "(iv).WAP to count the number of elements present in D.\n",
            "5\n",
            "(v).WAP to add all the values present in D.\n",
            "21\n",
            "(vi).WAP to update the value of 3 to 7.1.\n",
            "{1: 5.6, 3: 7.1, 4: 8.7, 5: 7.7, 8: 8.8}\n",
            "(vii).WAP to clear the dictionary.\n",
            "{}\n"
          ]
        }
      ]
    },
    {
      "cell_type": "markdown",
      "source": [
        "Q3.S1 is a set defined as S1=[10,20,30,40,50,60].\n",
        "S2 is a set defined as S2=[40,50,60,70,80,90,]."
      ],
      "metadata": {
        "id": "Ns7TsbzrhJnZ"
      }
    },
    {
      "cell_type": "code",
      "source": [
        "S1= {10, 20, 30, 40, 50, 60}\n",
        "S2= {40, 50, 60, 70, 80, 90}\n",
        "print(\"Set S1=\",S1)\n",
        "print(\"Set S2=\",S2)\n",
        "print(\"(i).WAP to add 55 and 66 in Set S1.\")\n",
        "S1.add(55)\n",
        "S1.add(66)\n",
        "print(S1)\n",
        "print(\"(ii).WAP to remove 10 and 30 from Set S1.\")\n",
        "S1.remove(10)\n",
        "S1.remove(30)\n",
        "print(S1)\n",
        "print(\"(iii).WAP to check whether 40 is present in S1.\")\n",
        "print(\"40 is present in S1:\",40 in S1)\n",
        "print(\"(iv).WAP to find the union of S1 and S2.\")\n",
        "print(\"Union of S1 and S2:\",S1.union(S2))\n",
        "print(\"(v).WAP to find the intersection between S1 and S2.\")\n",
        "print(\"Intersection of S1 and S2:\",S1.intersection(S2))\n",
        "print(\"(vi).WAP to find the S1-S2.\")\n",
        "print(\"S1-S2:\",S1-S2)"
      ],
      "metadata": {
        "colab": {
          "base_uri": "https://localhost:8080/"
        },
        "id": "pyTdtUIbhvoT",
        "outputId": "b9b429eb-697c-44ad-dea5-e1af5cd415bb"
      },
      "execution_count": null,
      "outputs": [
        {
          "output_type": "stream",
          "name": "stdout",
          "text": [
            "Set S1= {50, 20, 40, 10, 60, 30}\n",
            "Set S2= {80, 50, 70, 40, 90, 60}\n",
            "(i).WAP to add 55 and 66 in Set S1.\n",
            "{50, 66, 20, 55, 40, 10, 60, 30}\n",
            "(ii).WAP to remove 10 and 30 from Set S1.\n",
            "{50, 66, 20, 55, 40, 60}\n",
            "(iii).WAP to check whether 40 is present in S1.\n",
            "40 is present in S1: True\n",
            "(iv).WAP to find the union of S1 and S2.\n",
            "Union of S1 and S2: {66, 70, 40, 80, 50, 20, 55, 90, 60}\n",
            "(v).WAP to find the intersection between S1 and S2.\n",
            "Intersection of S1 and S2: {40, 50, 60}\n",
            "(vi).WAP to find the S1-S2.\n",
            "S1-S2: {66, 20, 55}\n"
          ]
        }
      ]
    },
    {
      "cell_type": "markdown",
      "source": [
        "Q4. Write the following program."
      ],
      "metadata": {
        "id": "6f0VxepFrfUR"
      }
    },
    {
      "cell_type": "code",
      "source": [
        "print(\"WAP to print 100 random strings whose length between 6 and 8.\")\n",
        "import random as r\n",
        "import string as s\n",
        "print(s.ascii_letters+s.ascii_letters)\n",
        "a=r.sample(s.ascii_letters+s.ascii_letters,100)\n",
        "b=''.join(r.choice(a) for i in range(0,7))#6 letter\n",
        "c=''.join(r.choice(a) for i in range(0,8))#7 letter\n",
        "d=''.join(r.choice(a) for i in range(0,9))#8 letter\n",
        "print(b)\n",
        "print(c)\n",
        "print(d)\n",
        "print(\"WAP to print all prime numbers between 600 and 800.\")\n",
        "def prime(no):\n",
        "    if no < 2:\n",
        "        return False\n",
        "    for i in range(2, int(no//2) + 1):\n",
        "        if no % i == 0:\n",
        "            return False\n",
        "    return True\n",
        "\n",
        "for n in range(600, 801):\n",
        "    if prime(n):\n",
        "        a=print(n)\n",
        "print(\"WAP to print all prime numbers between 100 and 1000 that are divisible by 7 and 9.\")\n",
        "def check(num):\n",
        "    if(num%63==0):\n",
        "        print(num)\n",
        "        return 1\n",
        "    else:\n",
        "        return 0\n",
        "\n",
        "for n in range(100,1001):\n",
        "    if(check(n)==1):\n",
        "        print(n)"
      ],
      "metadata": {
        "colab": {
          "base_uri": "https://localhost:8080/"
        },
        "id": "hRTz8CMUstRa",
        "outputId": "1d1837c9-3fa6-4aeb-b74e-00bca36a0fba"
      },
      "execution_count": null,
      "outputs": [
        {
          "output_type": "stream",
          "name": "stdout",
          "text": [
            "WAP to print 100 random strings whose length between 6 and 8.\n",
            "abcdefghijklmnopqrstuvwxyzABCDEFGHIJKLMNOPQRSTUVWXYZabcdefghijklmnopqrstuvwxyzABCDEFGHIJKLMNOPQRSTUVWXYZ\n",
            "HTCVrrg\n",
            "myBNecvJ\n",
            "WRvCKYXzg\n",
            "WAP to print all prime numbers between 600 and 800.\n",
            "601\n",
            "607\n",
            "613\n",
            "617\n",
            "619\n",
            "631\n",
            "641\n",
            "643\n",
            "647\n",
            "653\n",
            "659\n",
            "661\n",
            "673\n",
            "677\n",
            "683\n",
            "691\n",
            "701\n",
            "709\n",
            "719\n",
            "727\n",
            "733\n",
            "739\n",
            "743\n",
            "751\n",
            "757\n",
            "761\n",
            "769\n",
            "773\n",
            "787\n",
            "797\n",
            "WAP to print all prime numbers between 100 and 1000 that are divisible by 7 and 9.\n",
            "126\n",
            "126\n",
            "189\n",
            "189\n",
            "252\n",
            "252\n",
            "315\n",
            "315\n",
            "378\n",
            "378\n",
            "441\n",
            "441\n",
            "504\n",
            "504\n",
            "567\n",
            "567\n",
            "630\n",
            "630\n",
            "693\n",
            "693\n",
            "756\n",
            "756\n",
            "819\n",
            "819\n",
            "882\n",
            "882\n",
            "945\n",
            "945\n"
          ]
        }
      ]
    },
    {
      "cell_type": "markdown",
      "source": [
        "Q5. WAP to create two lists of 10 random numbers between 10 and 30. Find"
      ],
      "metadata": {
        "id": "vN7Cmvdlusaw"
      }
    },
    {
      "cell_type": "code",
      "source": [
        "import random as r\n",
        "L1=[]\n",
        "L2=[]\n",
        "for i in range(11):\n",
        "    a=r.randint(10,30)\n",
        "    L1.append(a)\n",
        "    b=r.randint(10,30)\n",
        "    L2.append(b)\n",
        "\n",
        "print(\"List 1:\",L1)\n",
        "print(\"List 2:\",L2)\n",
        "a=set(L1)\n",
        "print(a)\n",
        "b=set(L2)\n",
        "print(b)\n",
        "print(\"Common element is : \",a.intersection(b))\n",
        "print(\"Unique element is : \",a.intersection(b))\n",
        "c=a.union(b)\n",
        "print(\"Minimum in both lists: \",min(c))\n",
        "print(\"Maximum in both lists: \",max(c))\n",
        "print(\"Sum of both the lists: \",sum(L1,L2))\n",
        "s=0\n",
        "t=0\n",
        "for x in L1:\n",
        "    for y in L2:\n",
        "        s=x+y\n",
        "        t=t+s\n",
        "        print(t)"
      ],
      "metadata": {
        "colab": {
          "base_uri": "https://localhost:8080/"
        },
        "id": "7StLhb_cvFSh",
        "outputId": "49c34370-3003-4685-ed5c-9c88040639ba"
      },
      "execution_count": null,
      "outputs": [
        {
          "output_type": "stream",
          "name": "stdout",
          "text": [
            "List 1:  [13, 12, 21, 14, 14, 24, 23, 10, 17, 12, 25]\n",
            "List 2:  [19, 24, 29, 18, 27, 14, 22, 24, 21, 13, 22]\n",
            "{10, 12, 13, 14, 17, 21, 23, 24, 25}\n",
            "{13, 14, 18, 19, 21, 22, 24, 27, 29}\n",
            "common element is :  {24, 21, 13, 14}\n",
            "unique element is :  {24, 21, 13, 14}\n",
            "minimum in both lists:  10\n",
            "maximum in both lists:  29\n",
            "32\n",
            "69\n",
            "111\n",
            "142\n",
            "182\n",
            "209\n",
            "244\n",
            "281\n",
            "315\n",
            "341\n",
            "376\n",
            "407\n",
            "443\n",
            "484\n",
            "514\n",
            "553\n",
            "579\n",
            "613\n",
            "649\n",
            "682\n",
            "707\n",
            "741\n",
            "781\n",
            "826\n",
            "876\n",
            "915\n",
            "963\n",
            "998\n",
            "1041\n",
            "1086\n",
            "1128\n",
            "1162\n",
            "1205\n",
            "1238\n",
            "1276\n",
            "1319\n",
            "1351\n",
            "1392\n",
            "1420\n",
            "1456\n",
            "1494\n",
            "1529\n",
            "1556\n",
            "1592\n",
            "1625\n",
            "1663\n",
            "1706\n",
            "1738\n",
            "1779\n",
            "1807\n",
            "1843\n",
            "1881\n",
            "1916\n",
            "1943\n",
            "1979\n",
            "2022\n",
            "2070\n",
            "2123\n",
            "2165\n",
            "2216\n",
            "2254\n",
            "2300\n",
            "2348\n",
            "2393\n",
            "2430\n",
            "2476\n",
            "2518\n",
            "2565\n",
            "2617\n",
            "2658\n",
            "2708\n",
            "2745\n",
            "2790\n",
            "2837\n",
            "2881\n",
            "2917\n",
            "2962\n",
            "2991\n",
            "3025\n",
            "3064\n",
            "3092\n",
            "3129\n",
            "3153\n",
            "3185\n",
            "3219\n",
            "3250\n",
            "3273\n",
            "3305\n",
            "3341\n",
            "3382\n",
            "3428\n",
            "3463\n",
            "3507\n",
            "3538\n",
            "3577\n",
            "3618\n",
            "3656\n",
            "3686\n",
            "3725\n",
            "3756\n",
            "3792\n",
            "3833\n",
            "3863\n",
            "3902\n",
            "3928\n",
            "3962\n",
            "3998\n",
            "4031\n",
            "4056\n",
            "4090\n",
            "4134\n",
            "4183\n",
            "4237\n",
            "4280\n",
            "4332\n",
            "4371\n",
            "4418\n",
            "4467\n",
            "4513\n",
            "4551\n",
            "4598\n"
          ]
        }
      ]
    },
    {
      "cell_type": "markdown",
      "source": [
        "Q6. WAP to create a list of 100 random numbers between 100 and 900. Count and print the:"
      ],
      "metadata": {
        "id": "dKkvJv64v4DA"
      }
    },
    {
      "cell_type": "code",
      "source": [
        "import random as r\n",
        "L=[]\n",
        "L1=[]\n",
        "L2=[]\n",
        "L3=[]\n",
        "for i in range(100):\n",
        "    a=r.randint(100,900)\n",
        "    L.append(a)\n",
        "print(L,\"\\n\")\n",
        "\n",
        "def odd(num):\n",
        "    if(num%2!=0):\n",
        "        return 1\n",
        "count=0\n",
        "for i in L:\n",
        "    if(odd(i)==1):\n",
        "        L1.append(i)\n",
        "        count=count+1\n",
        "print(\"odd no:\",L1)\n",
        "print(\"no of odd numbers: \",count)\n",
        "#even numbers\n",
        "del count\n",
        "def even(num):\n",
        "    if(num%2==0):\n",
        "        return 1\n",
        "count=0\n",
        "for i in L:\n",
        "    if(even(i)==1):\n",
        "        L2.append(i)\n",
        "        count=count+1\n",
        "print(\"even no:\",L2)\n",
        "print(\"no of even numbers: \",count)\n",
        "#prime numbers\n",
        "del count\n",
        "count=0\n",
        "def prime(n):\n",
        "    for s in range(2, n//2 + 1):\n",
        "        if n%s==0:\n",
        "            return 0\n",
        "    return 1\n",
        "\n",
        "for i in L:\n",
        "    if prime(i) == 1:\n",
        "        L3.append(i)\n",
        "        count=count+1\n",
        "print(\"prime numbers are :\",count)\n",
        "print(\"prime no:\",L3)"
      ],
      "metadata": {
        "colab": {
          "base_uri": "https://localhost:8080/"
        },
        "id": "vICD_rLVwXaM",
        "outputId": "b04a34d4-a07f-47d9-de61-ed176ef674b0"
      },
      "execution_count": null,
      "outputs": [
        {
          "output_type": "stream",
          "name": "stdout",
          "text": [
            "[572, 332, 605, 269, 694, 725, 517, 249, 444, 347, 749, 421, 699, 208, 544, 651, 563, 398, 645, 105, 396, 340, 674, 400, 630, 464, 866, 891, 164, 294, 624, 267, 894, 858, 457, 144, 252, 887, 279, 676, 718, 358, 582, 407, 255, 813, 778, 617, 163, 194, 620, 516, 509, 732, 631, 507, 592, 339, 167, 131, 753, 835, 529, 550, 748, 735, 423, 344, 786, 178, 370, 514, 859, 668, 848, 143, 143, 784, 170, 368, 261, 758, 411, 118, 496, 413, 686, 528, 376, 615, 314, 709, 401, 716, 575, 271, 849, 488, 281, 198] \n",
            "\n",
            "odd no: [605, 269, 725, 517, 249, 347, 749, 421, 699, 651, 563, 645, 105, 891, 267, 457, 887, 279, 407, 255, 813, 617, 163, 509, 631, 507, 339, 167, 131, 753, 835, 529, 735, 423, 859, 143, 143, 261, 411, 413, 615, 709, 401, 575, 271, 849, 281]\n",
            "no of odd numbers:  47\n",
            "even no: [572, 332, 694, 444, 208, 544, 398, 396, 340, 674, 400, 630, 464, 866, 164, 294, 624, 894, 858, 144, 252, 676, 718, 358, 582, 778, 194, 620, 516, 732, 592, 550, 748, 344, 786, 178, 370, 514, 668, 848, 784, 170, 368, 758, 118, 496, 686, 528, 376, 314, 716, 488, 198]\n",
            "no of even numbers:  53\n",
            "prime numbers are : 17\n",
            "prime no: [269, 347, 421, 563, 457, 887, 617, 163, 509, 631, 167, 131, 859, 709, 401, 271, 281]\n"
          ]
        }
      ]
    },
    {
      "cell_type": "markdown",
      "source": [
        "Q7. D is a dictionary defined as D={1:\"One\",2:\"Two\",3:\"Three\",4:\"Four\",5:\"Five\"}."
      ],
      "metadata": {
        "id": "fd-DklRnzRpz"
      }
    },
    {
      "cell_type": "code",
      "source": [
        "# D is a dictionary defined as D={1:\"One\",2:\"Two\",3:\"Three\",4:\"Four\", 5:\"Five\"}\n",
        "D={1:\"One\",2:\"Two\",3:\"Three\",4:\"Four\", 5:\"Five\"}\n",
        "print(\"keys:\",D.keys())\n",
        "print(\"values:\",D.values())\n",
        "a=list(D.keys())\n",
        "print(a)\n",
        "b=list(D.values())\n",
        "print(b)\n",
        "fp=open(\"file.txt\",'w')#imp\n",
        "for i in a:\n",
        "    for j in b:\n",
        "        fp.write(str(i)+\"\\n\")\n",
        "        fp.write(str(j)+\"\\n\")\n",
        "fp.close()"
      ],
      "metadata": {
        "colab": {
          "base_uri": "https://localhost:8080/"
        },
        "id": "XZ1Y2d3Bz25m",
        "outputId": "694547c4-7e26-4e77-b4bb-e68ec6ee6f9b"
      },
      "execution_count": null,
      "outputs": [
        {
          "output_type": "stream",
          "name": "stdout",
          "text": [
            "keys: dict_keys([1, 2, 3, 4, 5])\n",
            "values: dict_values(['One', 'Two', 'Three', 'Four', 'Five'])\n",
            "[1, 2, 3, 4, 5]\n",
            "['One', 'Two', 'Three', 'Four', 'Five']\n"
          ]
        }
      ]
    },
    {
      "cell_type": "markdown",
      "source": [
        "Q8. L is a list defined a L={\"One\",\"Two\",\"Three\",\"Four\",\"Five\"}. WAP to count the legth of each element from a list and write to the file in the below format:"
      ],
      "metadata": {
        "id": "XL558HuX0zsC"
      }
    },
    {
      "cell_type": "code",
      "source": [
        "#L is a list defined as L={\"One\",\"Two\",\"Three\",\"Four\",\"Five\"}\n",
        "L=[\"One\",\"Two\",\"Three\",\"Four\",\"Five\"]\n",
        "L1=[]\n",
        "import string as s\n",
        "print(\"length of element 1 in string :\" ,len(L[0]))\n",
        "print(\"length of element 2 in string :\" ,len(L[1]))\n",
        "print(\"length of element 3 in string :\" ,len(L[2]))\n",
        "print(\"length of element 4 in string :\" ,len(L[3]))\n",
        "print(\"length of element 5 in string :\" ,len(L[4]))\n",
        "L1.append(len(L[0]))\n",
        "L1.append(len(L[1]))\n",
        "L1.append(len(L[2]))\n",
        "L1.append(len(L[3]))\n",
        "L1.append(len(L[4]))\n",
        "D={}\n",
        "D[\"One\"]=3\n",
        "D[\"Two\"]=3\n",
        "D[\"Four\"]=4\n",
        "print(D)\n",
        "fp=open(\"one.text\",'w')\n",
        "for i in D:\n",
        "    fp.write(str(i)+\"\\n\")\n",
        "fp.close()"
      ],
      "metadata": {
        "colab": {
          "base_uri": "https://localhost:8080/"
        },
        "id": "5TSEQtiD0zZ5",
        "outputId": "70e6a6af-4f18-4dba-eff4-c1b00e8a02fc"
      },
      "execution_count": null,
      "outputs": [
        {
          "output_type": "stream",
          "name": "stdout",
          "text": [
            "length of element 1 in string : 3\n",
            "length of element 2 in string : 3\n",
            "length of element 3 in string : 5\n",
            "length of element 4 in string : 4\n",
            "length of element 5 in string : 4\n",
            "{'One': 3, 'Two': 3, 'Four': 4}\n"
          ]
        }
      ]
    },
    {
      "cell_type": "markdown",
      "source": [
        "Q9. WAP to the file 100 random strings whose length between 10 and 15."
      ],
      "metadata": {
        "id": "YJIYNF7k-ycv"
      }
    },
    {
      "cell_type": "code",
      "source": [
        "#Write to the file 100 random strings whose length between 10 and 15#\n",
        "import random as r\n",
        "import string as s\n",
        "\n",
        "def random(length):\n",
        "    letters = s.ascii_letters\n",
        "    return ''.join(r.choice(letters) for _ in range(length))\n",
        "\n",
        "\n",
        "with open(\"random_strings.txt\", \"w\") as file:\n",
        "\n",
        "    for _ in range(100):\n",
        "        length = r.randint(10, 15)\n",
        "        random_string = random(length)\n",
        "        # Write the random string to the file\n",
        "        file.write(random_string + '\\n')"
      ],
      "metadata": {
        "id": "FNuf4DEHDLCV"
      },
      "execution_count": null,
      "outputs": []
    },
    {
      "cell_type": "markdown",
      "source": [
        "Q10. Write to the file all prime numbers  between 600 and 800."
      ],
      "metadata": {
        "id": "KlT-rRTNDvDS"
      }
    },
    {
      "cell_type": "code",
      "source": [
        "#Write to the file all prime numbers between 600 and 800\n",
        "L=[]\n",
        "def prime(num):\n",
        "    for i in range(2, num//2 + 1):\n",
        "        if  num % i == 0:\n",
        "            return 1\n",
        "            print (\"Not Prime\")\n",
        "            break\n",
        "\n",
        "\n",
        "for n in range(600,801):\n",
        "    if(prime(n)==1):\n",
        "        L.append(n)\n",
        "print(L)\n",
        "fp=open(\"file.txt\",'w')\n",
        "for i in L:\n",
        "    fp.write(str(i)+'\\n')\n",
        "fp.close()"
      ],
      "metadata": {
        "colab": {
          "base_uri": "https://localhost:8080/"
        },
        "id": "9suvnKR7FzUX",
        "outputId": "f6d380ce-99a5-4497-e38c-e611faa70b8b"
      },
      "execution_count": null,
      "outputs": [
        {
          "output_type": "stream",
          "name": "stdout",
          "text": [
            "[600, 602, 603, 604, 605, 606, 608, 609, 610, 611, 612, 614, 615, 616, 618, 620, 621, 622, 623, 624, 625, 626, 627, 628, 629, 630, 632, 633, 634, 635, 636, 637, 638, 639, 640, 642, 644, 645, 646, 648, 649, 650, 651, 652, 654, 655, 656, 657, 658, 660, 662, 663, 664, 665, 666, 667, 668, 669, 670, 671, 672, 674, 675, 676, 678, 679, 680, 681, 682, 684, 685, 686, 687, 688, 689, 690, 692, 693, 694, 695, 696, 697, 698, 699, 700, 702, 703, 704, 705, 706, 707, 708, 710, 711, 712, 713, 714, 715, 716, 717, 718, 720, 721, 722, 723, 724, 725, 726, 728, 729, 730, 731, 732, 734, 735, 736, 737, 738, 740, 741, 742, 744, 745, 746, 747, 748, 749, 750, 752, 753, 754, 755, 756, 758, 759, 760, 762, 763, 764, 765, 766, 767, 768, 770, 771, 772, 774, 775, 776, 777, 778, 779, 780, 781, 782, 783, 784, 785, 786, 788, 789, 790, 791, 792, 793, 794, 795, 796, 798, 799, 800]\n"
          ]
        }
      ]
    },
    {
      "cell_type": "markdown",
      "source": [
        "Q11. WAP to calculate the time taken by a program."
      ],
      "metadata": {
        "id": "zBjApfITGQKT"
      }
    },
    {
      "cell_type": "code",
      "source": [
        "#WAP to calculate the time taken by a program\n",
        "import time\n",
        "starting_time=time.time()\n",
        "print(\"hello world\")\n",
        "ending_time=time.time()\n",
        "remain_time=ending_time-starting_time\n",
        "print(\"The time taken=\",remain_time)"
      ],
      "metadata": {
        "colab": {
          "base_uri": "https://localhost:8080/"
        },
        "id": "gjdltpA2GhSK",
        "outputId": "05eedd23-5518-48db-a07d-903c4c324ebc"
      },
      "execution_count": null,
      "outputs": [
        {
          "output_type": "stream",
          "name": "stdout",
          "text": [
            "hello world\n",
            "The time taken= 0.00013756752014160156\n"
          ]
        }
      ]
    },
    {
      "cell_type": "markdown",
      "source": [
        "Q12. WAP to sort following number of students in a list, calculate time taken and plot a graph."
      ],
      "metadata": {
        "id": "yNxjmbuQGrkg"
      }
    },
    {
      "cell_type": "code",
      "source": [
        "#WAP to sort following number of elements in a list, calculate time taken and plot the graph\n",
        "L1=[]\n",
        "L2=[]\n",
        "L3=[]\n",
        "L4=[]\n",
        "L5=[]\n",
        "len(L1)==5000\n",
        "len(L2)==10000\n",
        "len(L3)==15000\n",
        "len(L4)==20000\n",
        "len(L5)==25000\n",
        "import time\n",
        "starting_time=time.time()\n",
        "print(\"hello world\")\n",
        "ending_time=time.time()\n",
        "remain_time=ending_time-starting_time\n",
        "print(\"The time taken=\",remain_time)"
      ],
      "metadata": {
        "colab": {
          "base_uri": "https://localhost:8080/"
        },
        "id": "r_ZjiiVEHbC6",
        "outputId": "bbf478af-9251-446a-af78-35795da3480c"
      },
      "execution_count": null,
      "outputs": [
        {
          "output_type": "stream",
          "name": "stdout",
          "text": [
            "hello world\n",
            "The time taken= 0.0005288124084472656\n"
          ]
        }
      ]
    },
    {
      "cell_type": "markdown",
      "source": [
        "Q13. WAP to create a dictionary of student marks in five subjects and you have to find the student having maximum and minimum average marks."
      ],
      "metadata": {
        "id": "b0NpWODqHvKn"
      }
    },
    {
      "cell_type": "code",
      "source": [
        "#WAP to create a dictionary of student marks in five subjects and you have to find the student\n",
        " #having maximum and minimum average marks\n",
        " #doubt question\n",
        "def find_max_min_average(student_marks):\n",
        "    max_average = float('-inf')\n",
        "    min_average = float('inf')\n",
        "    max_student = ''\n",
        "    min_student = ''\n",
        "\n",
        "    for student, marks in student_marks.items():\n",
        "        average = sum(marks) / len(marks)\n",
        "        if average > max_average:\n",
        "            max_average = average\n",
        "            max_student = student\n",
        "        if average < min_average:\n",
        "            min_average = average\n",
        "            min_student = student\n",
        "\n",
        "    return max_student, min_student\n",
        "\n",
        "# Create a dictionary of student marks\n",
        "student_marks = {\n",
        "    'Johnnathan': [80, 85, 90, 95, 92],\n",
        "    'Lily': [75, 82, 88, 91, 79],\n",
        "    'Sam': [90, 92, 86, 89, 94],\n",
        "    'Asda': [87, 84, 91, 88, 90]\n",
        "}\n",
        "\n",
        "# Find the student with the maximum and minimum average marks\n",
        "max_student, min_student = find_max_min_average(student_marks)\n",
        "\n",
        "# Print the results\n",
        "print(\"Student with the maximum average marks:\", max_student)\n",
        "print(\"Student with the minimum average marks:\", min_student)"
      ],
      "metadata": {
        "colab": {
          "base_uri": "https://localhost:8080/"
        },
        "id": "-DwCYd2rIYed",
        "outputId": "b6db3e70-6d87-42ef-b8f3-43fec478928b"
      },
      "execution_count": null,
      "outputs": [
        {
          "output_type": "stream",
          "name": "stdout",
          "text": [
            "Student with the maximum average marks: Sam\n",
            "Student with the minimum average marks: Lily\n"
          ]
        }
      ]
    }
  ]
}